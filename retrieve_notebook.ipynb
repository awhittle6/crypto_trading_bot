{
 "cells": [
  {
   "cell_type": "code",
   "execution_count": null,
   "id": "0a9269c6",
   "metadata": {},
   "outputs": [],
   "source": [
    "import pandas as pd\n",
    "import sqlalchemy\n",
    "def create_df(msg):\n",
    "    df = pd.DataFrame([msg])\n",
    "    df = df.loc[:, ['s','E','p']]\n",
    "    df.columns = ['symbol', 'Time','Price']\n",
    "    df.Price = df.Price.astype(float)\n",
    "    df.Time = pd.to_datetime(df.Time, unit='ms')\n",
    "    return df\n",
    "engine = sqlalchemy.create_engine('sqlite:///ETHUSDTstream.db')"
   ]
  },
  {
   "cell_type": "code",
   "execution_count": null,
   "id": "b42caeb6",
   "metadata": {},
   "outputs": [],
   "source": [
    "import nest_asyncio\n",
    "nest_asyncio.apply()\n",
    "import asyncio\n",
    "from binance import AsyncClient, BinanceSocketManager\n",
    "\n",
    "\n",
    "async def main():\n",
    "    client = await AsyncClient.create()\n",
    "    bm = BinanceSocketManager(client)\n",
    "    ts = bm.trade_socket('ETHUSDT')\n",
    "    async with ts as tscm:\n",
    "        while True:\n",
    "            res = await tscm.recv()\n",
    "            df = create_df(res)\n",
    "            df.to_sql('ETHUSDT', engine, if_exists='append', index=False)\n",
    "\n",
    "    await client.close_connection()\n",
    "\n",
    "if __name__ == \"__main__\":\n",
    "\n",
    "    loop = asyncio.get_event_loop()\n",
    "    loop.run_until_complete(main())"
   ]
  },
  {
   "cell_type": "code",
   "execution_count": null,
   "id": "89de03d8",
   "metadata": {},
   "outputs": [],
   "source": []
  }
 ],
 "metadata": {
  "kernelspec": {
   "display_name": "Python 3",
   "language": "python",
   "name": "python3"
  },
  "language_info": {
   "codemirror_mode": {
    "name": "ipython",
    "version": 3
   },
   "file_extension": ".py",
   "mimetype": "text/x-python",
   "name": "python",
   "nbconvert_exporter": "python",
   "pygments_lexer": "ipython3",
   "version": "3.8.8"
  }
 },
 "nbformat": 4,
 "nbformat_minor": 5
}
